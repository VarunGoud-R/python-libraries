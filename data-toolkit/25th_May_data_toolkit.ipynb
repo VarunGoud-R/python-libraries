{
 "cells": [
  {
   "cell_type": "markdown",
   "id": "45eb7b94-bc38-4979-92e4-cd1f333b7dc4",
   "metadata": {},
   "source": [
    "<h1>Data Toolkit</h1>"
   ]
  },
  {
   "cell_type": "markdown",
   "id": "93b276f7-59bc-47cd-b724-378ccb46e030",
   "metadata": {},
   "source": [
    "1. Demonstrate three different methods for creating identical 2D arrays in NumPy. Provide the code for each method and the final output after each method."
   ]
  },
  {
   "cell_type": "code",
   "execution_count": 3,
   "id": "533168fa-8bcd-4fe5-abb6-2961ea1f7fa8",
   "metadata": {
    "tags": []
   },
   "outputs": [
    {
     "name": "stdout",
     "output_type": "stream",
     "text": [
      "Method 1: Using numpy.array()\n",
      "[[1 2 3]\n",
      " [4 5 6]\n",
      " [7 8 9]]\n"
     ]
    }
   ],
   "source": [
    "#Method1\n",
    "import numpy as np\n",
    "\n",
    "# Create a 2D array using numpy.array()\n",
    "arr = np.array([[1, 2, 3], [4, 5, 6], [7, 8, 9]])\n",
    "\n",
    "print(\"Method 1: Using numpy.array()\")\n",
    "print(arr)"
   ]
  },
  {
   "cell_type": "code",
   "execution_count": 4,
   "id": "ad5b11a5-89ab-45c1-aa10-2a79019ed5a4",
   "metadata": {},
   "outputs": [
    {
     "name": "stdout",
     "output_type": "stream",
     "text": [
      "Method 2: Using numpy.zeros()\n",
      "[[0. 0. 0.]\n",
      " [0. 0. 0.]\n",
      " [0. 0. 0.]]\n"
     ]
    }
   ],
   "source": [
    "#Method2\n",
    "import numpy as np\n",
    "\n",
    "# Create a 2D array using numpy.zeros()\n",
    "arr = np.zeros((3, 3))\n",
    "\n",
    "print(\"Method 2: Using numpy.zeros()\")\n",
    "print(arr)"
   ]
  },
  {
   "cell_type": "code",
   "execution_count": 5,
   "id": "60f014e1-b7a2-43e3-8d70-817eceba20a1",
   "metadata": {},
   "outputs": [
    {
     "name": "stdout",
     "output_type": "stream",
     "text": [
      "Method 3: Using numpy.ones()\n",
      "[[1. 1. 1.]\n",
      " [1. 1. 1.]\n",
      " [1. 1. 1.]]\n"
     ]
    }
   ],
   "source": [
    "#Method3\n",
    "import numpy as np\n",
    "\n",
    "# Create a 2D array using numpy.ones()\n",
    "arr = np.ones((3, 3))\n",
    "\n",
    "print(\"Method 3: Using numpy.ones()\")\n",
    "print(arr)"
   ]
  },
  {
   "cell_type": "code",
   "execution_count": null,
   "id": "62cc2fb9-44de-4d6b-99a5-094c4d72229a",
   "metadata": {},
   "outputs": [],
   "source": []
  },
  {
   "cell_type": "markdown",
   "id": "fb53a72e-28fd-4483-a728-d10b9e442428",
   "metadata": {},
   "source": [
    "2. Using the Numpy function, generate an array of 100 evenly spaced numbers between 1 and 10 and Reshape that 1D array into a 2D array"
   ]
  },
  {
   "cell_type": "code",
   "execution_count": 6,
   "id": "77db231c-8543-4ac9-9d54-779463542f3a",
   "metadata": {},
   "outputs": [
    {
     "name": "stdout",
     "output_type": "stream",
     "text": [
      "[[ 1.          1.09090909  1.18181818  1.27272727  1.36363636  1.45454545\n",
      "   1.54545455  1.63636364  1.72727273  1.81818182]\n",
      " [ 1.90909091  2.          2.09090909  2.18181818  2.27272727  2.36363636\n",
      "   2.45454545  2.54545455  2.63636364  2.72727273]\n",
      " [ 2.81818182  2.90909091  3.          3.09090909  3.18181818  3.27272727\n",
      "   3.36363636  3.45454545  3.54545455  3.63636364]\n",
      " [ 3.72727273  3.81818182  3.90909091  4.          4.09090909  4.18181818\n",
      "   4.27272727  4.36363636  4.45454545  4.54545455]\n",
      " [ 4.63636364  4.72727273  4.81818182  4.90909091  5.          5.09090909\n",
      "   5.18181818  5.27272727  5.36363636  5.45454545]\n",
      " [ 5.54545455  5.63636364  5.72727273  5.81818182  5.90909091  6.\n",
      "   6.09090909  6.18181818  6.27272727  6.36363636]\n",
      " [ 6.45454545  6.54545455  6.63636364  6.72727273  6.81818182  6.90909091\n",
      "   7.          7.09090909  7.18181818  7.27272727]\n",
      " [ 7.36363636  7.45454545  7.54545455  7.63636364  7.72727273  7.81818182\n",
      "   7.90909091  8.          8.09090909  8.18181818]\n",
      " [ 8.27272727  8.36363636  8.45454545  8.54545455  8.63636364  8.72727273\n",
      "   8.81818182  8.90909091  9.          9.09090909]\n",
      " [ 9.18181818  9.27272727  9.36363636  9.45454545  9.54545455  9.63636364\n",
      "   9.72727273  9.81818182  9.90909091 10.        ]]\n"
     ]
    }
   ],
   "source": [
    "import numpy as np\n",
    "\n",
    "# Generate an array of 100 evenly spaced numbers between 1 and 10\n",
    "arr = np.linspace(1, 10, 100)\n",
    "\n",
    "# Reshape the 1D array into a 2D array with 10 rows and 10 columns\n",
    "arr_2d = arr.reshape((10, 10))\n",
    "\n",
    "print(arr_2d)"
   ]
  },
  {
   "cell_type": "code",
   "execution_count": null,
   "id": "778497d0-144f-45e0-aa54-67ecb7f5ac1a",
   "metadata": {},
   "outputs": [],
   "source": []
  },
  {
   "cell_type": "markdown",
   "id": "7b086197-8e33-422a-a1b2-96e5880fda39",
   "metadata": {},
   "source": [
    "3. Explain the following terms:\n",
    "<ul><li>The difference in np.array, np.asarray and np.asanyarray.</li>\n",
    "<li>The difference between Deep copy and shallow copy.</li></ul>"
   ]
  },
  {
   "cell_type": "markdown",
   "id": "7dbe95be-a885-4e92-bdb9-5b001563eef3",
   "metadata": {},
   "source": [
    "The difference between np.array, np.asarray, and np.asanyarray in NumPy is primarily related to how they handle the input data and whether they make a copy of the data or not.\n",
    "\n",
    "np.array: This function creates a new array from the input data. It makes a copy of the input data by default. This means that if you modify the original data, the changes will not be reflected in the new array.\n",
    "\n",
    "np.asarray: This function also creates a new array from the input data. However, it does not make a copy of the input data by default. Instead, it tries to use the input data as is. If the input data is already an array, it will not make a copy. This can be useful if you want to avoid making a copy of the data and you are sure that the input data is an array.\n",
    "\n",
    "np.asanyarray: This function is similar to np.asarray, but it also checks if the input data is a subclass of ndarray. If it is, it will return the input data as is, without making a copy. This can be useful if you want to preserve the original data and its subclass relationships.\n",
    "\n",
    "\n",
    "The difference between deep copy and shallow copy is primarily related to how they handle nested objects.\n",
    "\n",
    "Shallow Copy: A shallow copy creates a new object that references the same inner objects as the original. This means that if you modify the inner objects, the changes will be reflected in both the original and the copy. However, if you modify the top-level object, the changes will only be reflected in the original.\n",
    "\n",
    "Deep Copy: A deep copy creates a completely independent copy of both the object and its nested objects. This means that if you modify the nested objects, the changes will only be reflected in the copy, and not in the original. This can be useful if you want to preserve the original data and its nested objects, and you want to make changes to the nested objects without affecting the original.\n",
    "\n",
    "Here's a simple example that demonstrates the difference between shallow copy and deep copy:\n",
    "\n",
    "python\n",
    "<pre>\n",
    "import copy\n",
    "\n",
    "# Original list\n",
    "original_list = [[1, 2, 3], [4, 5, 6]]\n",
    "\n",
    "# Shallow copy\n",
    "shallow_copy = copy.copy(original_list)\n",
    "\n",
    "# Deep copy\n",
    "deep_copy = copy.deepcopy(original_list)\n",
    "\n",
    "# Modify the first element of the shallow copy\n",
    "shallow_copy[0][0] = 10\n",
    "\n",
    "# Modify the first element of the deep copy\n",
    "deep_copy[0][0] = 20\n",
    "\n",
    "print(\"Original List:\", original_list)\n",
    "print(\"Shallow Copy:\", shallow_copy)\n",
    "print(\"Deep Copy:\", deep_copy)\n",
    "</pre>\n",
    "\n",
    "Output:\n",
    "<pre>\n",
    "Original List: [[1, 2, 3], [4, 5, 6]]\n",
    "Shallow Copy: [[10, 2, 3], [4, 5, 6]]\n",
    "Deep Copy: [[20, 2, 3], [4, 5, 6]]\n",
    "</pre>\n",
    "\n",
    "In this example, we can see that modifying the shallow copy affects the original list, but modifying the deep copy does not affect the original list."
   ]
  },
  {
   "cell_type": "code",
   "execution_count": null,
   "id": "44c97d55-94bb-4d26-a94a-3d53bd2323eb",
   "metadata": {},
   "outputs": [],
   "source": []
  },
  {
   "cell_type": "markdown",
   "id": "653bcda2-f812-4f4a-948d-0cd76b0ffe48",
   "metadata": {
    "tags": []
   },
   "source": [
    "4. Generate a 3x3 array with random floating-point numbers between 5 and 20. Then, round each number in the array to 2 decimal places."
   ]
  },
  {
   "cell_type": "code",
   "execution_count": null,
   "id": "eadde117-a13f-4549-b42e-c49537d5aa7f",
   "metadata": {
    "tags": []
   },
   "outputs": [
    {
     "name": "stdout",
     "output_type": "stream",
     "text": [
      "[[10.62 19.26 15.98]\n",
      " [13.98  7.34  7.34]\n",
      " [ 5.87 17.99 14.02]]\n"
     ]
    }
   ],
   "source": [
    "import numpy as np\n",
    "\n",
    "# Set the seed for reproducibility (optional)\n",
    "np.random.seed(42)\n",
    "\n",
    "# Generate the 3x3 array with random floating-point numbers between 5 and 20\n",
    "arr = np.random.uniform(5, 20, size=(3, 3))\n",
    "\n",
    "# Round each number in the array to 2 decimal places\n",
    "arr_rounded = np.round(arr, decimals=2)\n",
    "\n",
    "# Print the rounded array\n",
    "print(arr_rounded)\n"
   ]
  },
  {
   "cell_type": "markdown",
   "id": "0ef8dc49-6e8d-431e-a1dd-01a27eceb4fb",
   "metadata": {
    "tags": []
   },
   "source": [
    "This code snippet uses the np.random.uniform function from the NumPy library to generate random numbers between 5 and 20. The size parameter is set to (3, 3) to create a 3x3 array. The np.round function is then used to round each number in the array to 2 decimal places"
   ]
  },
  {
   "cell_type": "markdown",
   "id": "630fc477-cb26-4c01-8bda-3b7c59438389",
   "metadata": {
    "jupyter": {
     "source_hidden": true
    },
    "tags": []
   },
   "source": [
    "5.Create a NumPy array with random integers between 1 and 10 of shape (5, 6). After creating the array perform the following operations\n",
    "a)extract all even integers from array\n",
    "b)extract all odd integers from array"
   ]
  },
  {
   "cell_type": "code",
   "execution_count": null,
   "id": "4373ceb7-ac9a-4b5a-ac22-8cd6e6824691",
   "metadata": {
    "jupyter": {
     "source_hidden": true
    },
    "tags": []
   },
   "outputs": [
    {
     "name": "stdout",
     "output_type": "stream",
     "text": [
      "Array:\n",
      "[[ 7  4  8  5  7 10]\n",
      " [ 3  7  8  5  4  8]\n",
      " [ 8  3  6  5  2  8]\n",
      " [ 6  2  5  1 10  6]\n",
      " [ 9  1 10  3  7  4]]\n",
      "\n",
      "Even Integers:\n",
      "[ 4  8 10  8  4  8  8  6  2  8  6  2 10  6 10  4]\n",
      "\n",
      "Odd Integers:\n",
      "[7 5 7 3 7 5 3 5 5 1 9 1 3 7]\n"
     ]
    }
   ],
   "source": [
    "import numpy as np\n",
    "\n",
    "# Set the seed for reproducibility (optional)\n",
    "np.random.seed(42)\n",
    "\n",
    "# Create the array of random integers between 1 and 10\n",
    "arr = np.random.randint(1, 11, size=(5, 6))\n",
    "\n",
    "# Extract all even integers from the array\n",
    "even_nums = arr[arr % 2 == 0]\n",
    "\n",
    "# Extract all odd integers from the array\n",
    "odd_nums = arr[arr % 2 != 0]\n",
    "\n",
    "# Print the array and the extracted even and odd integers\n",
    "print(\"Array:\")\n",
    "print(arr)\n",
    "print(\"\\nEven Integers:\")\n",
    "print(even_nums)\n",
    "print(\"\\nOdd Integers:\")\n",
    "print(odd_nums)\n"
   ]
  },
  {
   "cell_type": "markdown",
   "id": "31536598-0562-4c79-9c13-d1fd4bb4cdab",
   "metadata": {
    "tags": []
   },
   "source": [
    "In this code, we use np.random.randint function from the NumPy library to create a 5x6 array of random integers between 1 and 10. We then use boolean indexing to extract the even integers using the condition arr % 2 == 0 and the odd integers using the condition arr % 2 != 0."
   ]
  },
  {
   "cell_type": "markdown",
   "id": "2d1c95da-9249-4a3a-80ce-4387693c1259",
   "metadata": {
    "tags": []
   },
   "source": [
    "6.Create a 3D NumPy array of shape (3, 3, 3) containing random integers between 1 and 10. Perform the following operations\n",
    "a)find the indices of the maximum values along each depth level(third axis)\n",
    "b)perform element wise multiplication of between both array"
   ]
  },
  {
   "cell_type": "code",
   "execution_count": 1,
   "id": "6fc84029-25ac-49e0-93bb-24f097f7d72a",
   "metadata": {
    "tags": []
   },
   "outputs": [
    {
     "name": "stdout",
     "output_type": "stream",
     "text": [
      "Array:\n",
      "[[[ 7  4  8]\n",
      "  [ 5  7 10]\n",
      "  [ 3  7  8]]\n",
      "\n",
      " [[ 5  4  8]\n",
      "  [ 8  3  6]\n",
      "  [ 5  2  8]]\n",
      "\n",
      " [[ 6  2  5]\n",
      "  [ 1 10  6]\n",
      "  [ 9  1 10]]]\n",
      "\n",
      "Indices of Maximum Values along Third Axis:\n",
      "[[2 2 2]\n",
      " [2 0 2]\n",
      " [0 1 2]]\n",
      "\n",
      "Element-wise Multiplication:\n",
      "[[[ 49  20  48]\n",
      "  [ 25  56  10]\n",
      "  [  9  35  72]]\n",
      "\n",
      " [[ 20  16  16]\n",
      "  [ 56   9  60]\n",
      "  [ 35   4   8]]\n",
      "\n",
      " [[ 48  16  25]\n",
      "  [ 10  60  36]\n",
      "  [ 72   8 100]]]\n"
     ]
    }
   ],
   "source": [
    "import numpy as np\n",
    "\n",
    "# Set the seed for reproducibility (optional)\n",
    "np.random.seed(42)\n",
    "\n",
    "# Create the 3D array of random integers between 1 and 10\n",
    "arr = np.random.randint(1, 11, size=(3, 3, 3))\n",
    "\n",
    "# Find the indices of the maximum values along each depth level (third axis)\n",
    "max_indices = np.argmax(arr, axis=2)\n",
    "\n",
    "# Perform element-wise multiplication between the array and its transpose\n",
    "elementwise_mult = arr * arr.T\n",
    "\n",
    "# Print the array, the indices of the maximum values, and the element-wise multiplication\n",
    "print(\"Array:\")\n",
    "print(arr)\n",
    "print(\"\\nIndices of Maximum Values along Third Axis:\")\n",
    "print(max_indices)\n",
    "print(\"\\nElement-wise Multiplication:\")\n",
    "print(elementwise_mult)\n"
   ]
  },
  {
   "cell_type": "markdown",
   "id": "b419ba6e-4efb-406e-bcff-022e4af479f4",
   "metadata": {
    "tags": []
   },
   "source": [
    "In this code, we use np.random.randint function from the NumPy library to create a 3D array of random integers between 1 and 10 with a shape of (3, 3, 3). We then use np.argmax function with axis=2 to find the indices of the maximum values along each depth level (third axis). Finally, we perform element-wise multiplication between the array and its transpose using the * operator."
   ]
  },
  {
   "cell_type": "markdown",
   "id": "83370aa2-e77c-4593-b6ce-7c0f1acd693e",
   "metadata": {
    "tags": []
   },
   "source": [
    "7.Clean and transform the 'Phone' column in the sample dataset to remove non-numeric characters and  convert it to a numeric data type.also display the table attributes and data types of each column"
   ]
  },
  {
   "cell_type": "raw",
   "id": "79c87316-fd16-4666-949e-b5766c2a4c79",
   "metadata": {},
   "source": [
    "1.To clean and transform the 'Phone' column in the sample dataset, you can follow these steps:\n",
    "\n",
    "Import the necessary libraries:\n",
    "\n",
    "import pandas as pd\n",
    "import re\n",
    "\n",
    "2.Load the dataset:\n",
    "\n",
    "df = pd.read_csv('your_dataset.csv')\n",
    "\n",
    "Replace 'your_dataset.csv' with the actual file path or name of your dataset.\n",
    "\n",
    "3.Clean and transform the 'Phone' column:\n",
    "\n",
    "# Remove non-numeric characters from the 'Phone' column\n",
    "df['Phone'] = df['Phone'].apply(lambda x: re.sub(r'\\D', '', str(x)))\n",
    "\n",
    "# Convert the 'Phone' column to a numeric data type\n",
    "df['Phone'] = pd.to_numeric(df['Phone'], errors='coerce')\n",
    "\n",
    "In the code above, we use the re.sub function from the re module to remove all non-numeric characters from the 'Phone' column. Then, we use the pd.to_numeric function from the pandas library to convert the 'Phone' column to a numeric data type. The errors='coerce' parameter is used to replace any non-numeric values with NaN.\n",
    "\n",
    "4.Display the table attributes and data types of each column:\n",
    "\n",
    "# Display the table attributes\n",
    "print(\"Table Attributes:\")\n",
    "print(df.columns)\n",
    "\n",
    "# Display the data types of each column\n",
    "print(\"\\nData Types:\")\n",
    "print(df.dtypes)\n",
    "\n",
    "This code will print the table attributes (column names) and the data types of each column in the dataset.\n",
    "\n",
    "need to replace 'your_dataset.csv' with the actual file path or name of your dataset. Additionally, make sure that the 'Phone' column contains phone numbers in a consistent format for this code to work correctly."
   ]
  },
  {
   "cell_type": "raw",
   "id": "ab356894-ad93-46d7-9faa-69d6c7f3a28c",
   "metadata": {},
   "source": [
    "8.Perform the following tasks using people dataset:       a\n",
    "a)read the 'data.csv' file using pandas,skipping the first 50 rows\n",
    "b)only read the columns:'LastName;,'Gender','Email','Phone' and 'Salary' from the file\n",
    "c)Display the first 10 rows of the filtered dataset\n",
    "d)Extract the 'salary'column as a series and display its last 5 values"
   ]
  },
  {
   "cell_type": "raw",
   "id": "f862e7ee-9c2d-4f20-921b-0a2d96dac29b",
   "metadata": {},
   "source": [
    "a)To read the 'data.csv' file using pandas and skip the first 50 rows:\n",
    "\n",
    "import pandas as pd\n",
    "\n",
    "# Read the 'data.csv' file, skipping the first 50 rows\n",
    "df = pd.read_csv('data.csv', skiprows=range(1, 51))\n",
    "\n",
    "b) To only read the columns 'LastName', 'Gender', 'Email', 'Phone', and 'Salary' from the file:\n",
    "\n",
    "# Read only the specified columns\n",
    "df = df[['LastName', 'Gender', 'Email', 'Phone', 'Salary']]\n",
    "\n",
    "c) To display the first 10 rows of the filtered dataset:\n",
    "\n",
    "# Display the first 10 rows\n",
    "print(df.head(10))\n",
    "\n",
    "d) To extract the 'Salary' column as a series and display its last 5 values:\n",
    "# Extract the 'Salary' column as a series\n",
    "salary_series = df['Salary']\n",
    "\n",
    "# Display the last 5 values of the 'Salary' series\n",
    "print(salary_series.tail(5))\n",
    "\n",
    "replace 'data.csv' with the actual file path or name of your dataset. "
   ]
  },
  {
   "cell_type": "raw",
   "id": "b0bd221e-b83b-4817-8d2d-3b61aa1cbe9a",
   "metadata": {},
   "source": [
    "9.Filter and select rows from the People_Dataset, where the “Last Name' column contains the name 'Duke', 'Gender' column contains the word female and 'salary' should be less than 850000"
   ]
  },
  {
   "cell_type": "code",
   "execution_count": null,
   "id": "bab358ff-f797-4e16-a7ad-cd7b7014bc5f",
   "metadata": {},
   "outputs": [],
   "source": [
    "import pandas as pd\n",
    "\n",
    "# Read the People_Dataset into a DataFrame\n",
    "df = pd.read_csv('People_Dataset.csv')\n",
    "\n",
    "# Filter the DataFrame based on the conditions\n",
    "filtered_df = df[(df['Last Name'].str.contains('Duke')) & (df['Gender'] == 'female') & (df['Salary'] < 85000)]\n",
    "\n",
    "# Display the first 10 rows of the filtered DataFrame\n",
    "print(filtered_df.head(10))\n",
    "\n",
    "# Extract the 'Salary' column as a series and display its last 5 values\n",
    "salary_series = filtered_df['Salary']\n",
    "print(salary_series.tail(5))\n"
   ]
  },
  {
   "cell_type": "raw",
   "id": "2512f9ee-de62-4043-877f-a8a22b96514c",
   "metadata": {},
   "source": [
    "In this code, we first read the People_Dataset into a DataFrame using pd.read_csv(). Then, we filter the DataFrame using boolean indexing based on the conditions specified: 'Last Name' column contains 'Duke', 'Gender' column is 'female', and 'Salary' column is less than 85000. We store the filtered DataFrame in filtered_df.\n",
    "\n",
    "Next, we display the first 10 rows of the filtered DataFrame using filtered_df.head(10). Finally, we extract the 'Salary' column as a series using filtered_df['Salary'] and display its last 5 values using salary_series.tail(5).\n",
    "\n",
    "replace 'People_Dataset.csv' with the actual file path or name of your dataset."
   ]
  },
  {
   "cell_type": "code",
   "execution_count": null,
   "id": "0d0579d6-393b-4dcc-bf3d-6c74bb685382",
   "metadata": {},
   "outputs": [],
   "source": [
    "10.Create a 7*5 Dataframe in Pandas using a series generated from 35 random integers between 1 to 6?"
   ]
  },
  {
   "cell_type": "raw",
   "id": "f7dc35ef-608c-47c1-8a8f-e848decc0a27",
   "metadata": {},
   "source": [
    "1.Import the necessary libraries:\n",
    "\n",
    "import pandas as pd\n",
    "import numpy as np\n",
    "\n",
    "2.Generate the series of random integers:\n",
    "\n",
    "# Set the seed for reproducibility (optional)\n",
    "np.random.seed(42)\n",
    "\n",
    "# Generate the series of random integers between 1 and 6\n",
    "random_integers = pd.Series(np.random.randint(1, 7, size=35))\n",
    "\n",
    "3.Reshape the series into a 7x5 DataFrame:\n",
    "\n",
    "# Reshape the series into a 7x5 DataFrame\n",
    "df = pd.DataFrame(random_integers.values.reshape(7, 5))\n",
    "\n",
    "# Print the DataFrame\n",
    "print(df)\n",
    "\n",
    "This code will generate a series of 35 random integers between 1 and 6 using np.random.randint function from the NumPy library. Then, it will reshape the series into a 7x5 DataFrame using the values.reshape method. Finally, it will print the DataFrame."
   ]
  },
  {
   "cell_type": "raw",
   "id": "e8ac8bf2-5f1f-44a7-b06d-534f619f11b6",
   "metadata": {},
   "source": [
    "11.Create two different Series, each of length 50, with the following criteria: \n",
    "a)The first series should contain random numbers ranging from 10 to 50\n",
    "b)the second series should contain random numbers ranging from 100 to 1000\n",
    "c)create a DataFrame by joining these series by column and change the names of the columns to 'col1','col2' ,etc"
   ]
  },
  {
   "cell_type": "code",
   "execution_count": 3,
   "id": "c05fe4bd-19e3-416e-965f-7a1ee55589e2",
   "metadata": {},
   "outputs": [
    {
     "name": "stdout",
     "output_type": "stream",
     "text": [
      "    col1  col2\n",
      "0     48   661\n",
      "1     38   971\n",
      "2     24   487\n",
      "3     17   101\n",
      "4     30   489\n",
      "5     48   665\n",
      "6     28   205\n",
      "7     32   871\n",
      "8     20   921\n",
      "9     20   576\n",
      "10    33   802\n",
      "11    45   501\n",
      "12    49   829\n",
      "13    33   655\n",
      "14    12   261\n",
      "15    31   301\n",
      "16    11   369\n",
      "17    33   962\n",
      "18    39   915\n",
      "19    47   370\n",
      "20    11   555\n",
      "21    30   561\n",
      "22    42   826\n",
      "23    21   351\n",
      "24    31   801\n",
      "25    34   395\n",
      "26    36   824\n",
      "27    37   819\n",
      "28    25   848\n",
      "29    24   437\n",
      "30    12   978\n",
      "31    46   152\n",
      "32    16   891\n",
      "33    30   316\n",
      "34    18   863\n",
      "35    48   287\n",
      "36    27   479\n",
      "37    13   592\n",
      "38    34   140\n",
      "39    23   256\n",
      "40    18   114\n",
      "41    35   912\n",
      "42    11   164\n",
      "43    29   956\n",
      "44    37   938\n",
      "45    16   620\n",
      "46    17   443\n",
      "47    44   228\n",
      "48    23   747\n",
      "49    26   571\n"
     ]
    }
   ],
   "source": [
    "import pandas as pd\n",
    "import numpy as np\n",
    "\n",
    "# Set the seed for reproducibility (optional)\n",
    "np.random.seed(42)\n",
    "\n",
    "# Create the first series with random numbers ranging from 10 to 50\n",
    "series1 = pd.Series(np.random.randint(10, 51, size=50))\n",
    "\n",
    "# Create the second series with random numbers ranging from 100 to 1000\n",
    "series2 = pd.Series(np.random.randint(100, 1001, size=50))\n",
    "\n",
    "# Create a DataFrame by joining the two series by column\n",
    "df = pd.DataFrame({'col1': series1, 'col2': series2})\n",
    "\n",
    "# Print the DataFrame with the changed column names\n",
    "print(df)\n"
   ]
  },
  {
   "cell_type": "raw",
   "id": "10f7f0bb-cbe6-4a1b-9df6-1d4967090ff3",
   "metadata": {},
   "source": [
    "In this code, we use np.random.randint function from the NumPy library to generate random integers. We create the first series (series1) with random numbers ranging from 10 to 50 using np.random.randint(10, 51, size=50). Similarly, we create the second series (series2) with random numbers ranging from 100 to 1000 using np.random.randint(100, 1001, size=50).\n",
    "\n",
    "Then, we create a DataFrame (df) by joining the two series by column using pd.DataFrame({'col1': series1, 'col2': series2}). Finally, we print the DataFrame with the changed column names."
   ]
  },
  {
   "cell_type": "raw",
   "id": "dc4fe9e6-a758-411e-a896-e8567f554c38",
   "metadata": {},
   "source": [
    "12.Perform the following operations using people data set: a) D\n",
    "a)Delete the'Email','Phone' and 'DateofBirth'columns from the dataset\n",
    "b)Delete the rows containing any missing values\n",
    "c)Print the final output also"
   ]
  },
  {
   "cell_type": "code",
   "execution_count": null,
   "id": "51be253b-4626-4d59-9c76-69c4957065a7",
   "metadata": {},
   "outputs": [],
   "source": [
    "import pandas as pd\n",
    "\n",
    "# Read the People_Dataset into a DataFrame\n",
    "df = pd.read_csv('People_Dataset.csv')\n",
    "\n",
    "# Delete the 'Email', 'Phone', and 'DateofBirth' columns\n",
    "df = df.drop(['Email', 'Phone', 'DateofBirth'], axis=1)\n",
    "\n",
    "# Delete the rows containing any missing values\n",
    "df = df.dropna()\n",
    "\n",
    "# Print the final output\n",
    "print(df)\n"
   ]
  },
  {
   "cell_type": "raw",
   "id": "403df8ae-8cb1-4eff-aca1-49a255ad6ec2",
   "metadata": {},
   "source": [
    "replace 'People_Dataset.csv' with the actual file path or name of your dataset.\n",
    "In the code above, we first read the People_Dataset into a DataFrame using pd.read_csv(). Then, we use the drop() function to delete the specified columns ('Email', 'Phone', and 'DateofBirth') from the DataFrame. Next, we use the dropna() function to delete the rows containing any missing values. Finally, we print the final output using print(df)."
   ]
  },
  {
   "cell_type": "code",
   "execution_count": null,
   "id": "1aba4a41-b675-42a2-b11a-bddd99920385",
   "metadata": {},
   "outputs": [],
   "source": [
    "13."
   ]
  },
  {
   "cell_type": "code",
   "execution_count": null,
   "id": "3b3b4b26-df6f-4f3d-8f28-5c0a6fdb4d95",
   "metadata": {},
   "outputs": [],
   "source": []
  },
  {
   "cell_type": "code",
   "execution_count": null,
   "id": "0b8054c4-74a0-4c95-ba34-942dde02b644",
   "metadata": {},
   "outputs": [],
   "source": []
  },
  {
   "cell_type": "markdown",
   "id": "7bc2f485-4a90-41cc-b69e-b54352c2b5f2",
   "metadata": {},
   "source": [
    "13. Create two NumPy arrays, x and y, each containing 100 random float values between 0 and 1. Perform the following tasks using Matplotlib and NumPy: \n",
    "a) Create a scatter plot using x and y, setting the color of the points to red and the marker style to 'o'. \n",
    "b) Add a horizontal line at y = 0.5 using a dashed line style and label it as 'y = 0.5'. \n",
    "c) Add a vertical line at x = 0.5 using a dotted line style and label it as 'x = 0.5'. \n",
    "d) Label the x-axis as 'X-axis' and the y-axis as 'Y-axis'. \n",
    "e) Set the title of the plot as 'Advanced Scatter Plot of Random Values'. \n",
    "f) Display a legend for the scatter plot, the horizontal line, and the vertical line. \n",
    "\n",
    "\n",
    "14. Create a time-series dataset in a Pandas DataFrame with columns: 'Date', 'Temperature', 'Humidity' and Perform the following tasks using Matplotlib: \n",
    "a) Plot the 'Temperature' and 'Humidity' on the same plot with different y-axes (left y-axis for 'Temperature' and right y-axis for 'Humidity'). \n",
    "b) Label the x-axis as 'Date'. \n",
    "c) Set the title of the plot as 'Temperature and Humidity Over Time'. \n",
    "\n",
    "\n",
    "15. Create a NumPy array data containing 1000 samples from a normal distribution. Perform the following tasks using Matplotlib: a) Plot a histogram of the data with 30 bins. \n",
    "b) Overlay a line plot representing the normal distribution's probability density function (PDF). \n",
    "c) Label the x-axis as 'Value' and the y-axis as 'Frequency/Probability'. \n",
    "d) Set the title of the plot as 'Histogram with PDF Overlay'. \n",
    "\n",
    "\n",
    "16. Set the title of the plot as 'Histogram with PDF Overlay'. \n",
    "\n",
    "\n",
    "17. Create a Seaborn scatter plot of two random arrays, color points based on their position relative to the origin (quadrants), add a legend, label the axes, and set the title as 'Quadrant-wise Scatter Plot'.\n",
    "\n",
    "\n",
    "18. With Bokeh, plot a line chart of a sine wave function, add grid lines, label the axes, and set the title as 'Sine Wave Function'. \n",
    "\n",
    "\n",
    "19. Using Bokeh, generate a bar chart of randomly generated categorical data, color bars based on their values, add hover tooltips to display exact values, label the axes, and set the title as 'Random Categorical Bar Chart'. \n",
    "\n",
    "\n",
    "20. Using Plotly, create a basic line plot of a randomly generated dataset, label the axes, and set the title as 'Simple Line Plot'. \n",
    "\n",
    "21. Using Plotly, create an interactive pie chart of randomly generated data, add labels and percentages, set the title as 'Interactive Pie Chart'."
   ]
  },
  {
   "cell_type": "code",
   "execution_count": null,
   "id": "d5083f45-5445-44b9-8604-c6df5e116324",
   "metadata": {},
   "outputs": [],
   "source": []
  }
 ],
 "metadata": {
  "kernelspec": {
   "display_name": "Python 3 (ipykernel)",
   "language": "python",
   "name": "python3"
  },
  "language_info": {
   "codemirror_mode": {
    "name": "ipython",
    "version": 3
   },
   "file_extension": ".py",
   "mimetype": "text/x-python",
   "name": "python",
   "nbconvert_exporter": "python",
   "pygments_lexer": "ipython3",
   "version": "3.10.8"
  }
 },
 "nbformat": 4,
 "nbformat_minor": 5
}
